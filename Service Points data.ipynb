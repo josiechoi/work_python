{
 "cells": [
  {
   "cell_type": "code",
   "execution_count": 20,
   "metadata": {},
   "outputs": [],
   "source": [
    "import pandas as pd\n",
    "import numpy as np"
   ]
  },
  {
   "cell_type": "code",
   "execution_count": 184,
   "metadata": {},
   "outputs": [
    {
     "name": "stdout",
     "output_type": "stream",
     "text": [
      "<class 'pandas.core.frame.DataFrame'>\n",
      "RangeIndex: 240414 entries, 0 to 240413\n",
      "Data columns (total 5 columns):\n",
      " #   Column         Non-Null Count   Dtype \n",
      "---  ------         --------------   ----- \n",
      " 0   Location       240414 non-null  object\n",
      " 1   Service_Point  240414 non-null  object\n",
      " 2   Service_Item   240414 non-null  object\n",
      " 3   Action         240414 non-null  object\n",
      " 4   Date_Time      240414 non-null  object\n",
      "dtypes: object(5)\n",
      "memory usage: 9.2+ MB\n"
     ]
    },
    {
     "data": {
      "text/html": [
       "<div>\n",
       "<style scoped>\n",
       "    .dataframe tbody tr th:only-of-type {\n",
       "        vertical-align: middle;\n",
       "    }\n",
       "\n",
       "    .dataframe tbody tr th {\n",
       "        vertical-align: top;\n",
       "    }\n",
       "\n",
       "    .dataframe thead th {\n",
       "        text-align: right;\n",
       "    }\n",
       "</style>\n",
       "<table border=\"1\" class=\"dataframe\">\n",
       "  <thead>\n",
       "    <tr style=\"text-align: right;\">\n",
       "      <th></th>\n",
       "      <th>Location</th>\n",
       "      <th>Service_Point</th>\n",
       "      <th>Service_Item</th>\n",
       "      <th>Action</th>\n",
       "      <th>Date_Time</th>\n",
       "    </tr>\n",
       "  </thead>\n",
       "  <tbody>\n",
       "    <tr>\n",
       "      <th>0</th>\n",
       "      <td>Library</td>\n",
       "      <td>Reference Desk</td>\n",
       "      <td>Directional</td>\n",
       "      <td>add</td>\n",
       "      <td>2010-03-01</td>\n",
       "    </tr>\n",
       "    <tr>\n",
       "      <th>1</th>\n",
       "      <td>Library</td>\n",
       "      <td>Reference Desk</td>\n",
       "      <td>Directional</td>\n",
       "      <td>add</td>\n",
       "      <td>2010-03-01</td>\n",
       "    </tr>\n",
       "    <tr>\n",
       "      <th>2</th>\n",
       "      <td>Library</td>\n",
       "      <td>Reference Desk</td>\n",
       "      <td>Directional</td>\n",
       "      <td>add</td>\n",
       "      <td>2010-03-01</td>\n",
       "    </tr>\n",
       "    <tr>\n",
       "      <th>3</th>\n",
       "      <td>Library</td>\n",
       "      <td>Reference Desk</td>\n",
       "      <td>Directional</td>\n",
       "      <td>add</td>\n",
       "      <td>2010-03-01</td>\n",
       "    </tr>\n",
       "    <tr>\n",
       "      <th>4</th>\n",
       "      <td>Library</td>\n",
       "      <td>Reference Desk</td>\n",
       "      <td>Directional</td>\n",
       "      <td>add</td>\n",
       "      <td>2010-03-01</td>\n",
       "    </tr>\n",
       "  </tbody>\n",
       "</table>\n",
       "</div>"
      ],
      "text/plain": [
       "  Location   Service_Point Service_Item Action   Date_Time\n",
       "0  Library  Reference Desk  Directional    add  2010-03-01\n",
       "1  Library  Reference Desk  Directional    add  2010-03-01\n",
       "2  Library  Reference Desk  Directional    add  2010-03-01\n",
       "3  Library  Reference Desk  Directional    add  2010-03-01\n",
       "4  Library  Reference Desk  Directional    add  2010-03-01"
      ]
     },
     "execution_count": 184,
     "metadata": {},
     "output_type": "execute_result"
    }
   ],
   "source": [
    "df=pd.read_excel(\"export.xlsx\",parse_dates=True)\n",
    "\n",
    "df.columns=['Location','Service_Point','Service_Item','Action','Date_Time']\n",
    "df['Date_Time']=pd.to_datetime(df['Date_Time']).dt.date\n",
    "\n",
    "df.info()\n",
    "df.head()"
   ]
  },
  {
   "cell_type": "code",
   "execution_count": 185,
   "metadata": {},
   "outputs": [
    {
     "name": "stdout",
     "output_type": "stream",
     "text": [
      "<class 'pandas.core.frame.DataFrame'>\n",
      "RangeIndex: 240414 entries, 0 to 240413\n",
      "Data columns (total 5 columns):\n",
      " #   Column         Non-Null Count   Dtype \n",
      "---  ------         --------------   ----- \n",
      " 0   Location       240414 non-null  object\n",
      " 1   Service_Point  240414 non-null  object\n",
      " 2   Service_Item   240414 non-null  object\n",
      " 3   Action         240414 non-null  object\n",
      " 4   Date_Time      240414 non-null  object\n",
      "dtypes: object(5)\n",
      "memory usage: 9.2+ MB\n"
     ]
    }
   ],
   "source": [
    "df.info()"
   ]
  },
  {
   "cell_type": "code",
   "execution_count": 196,
   "metadata": {},
   "outputs": [],
   "source": [
    "\n",
    "df['value'] = np.where(df['Action'] == \"add\", 1, -1)\n",
    "\n",
    "df.head()\n",
    "\n",
    "#df1=df.resample('D', on='Date_Time').sum()\n",
    "\n",
    "\n",
    "df1=df.groupby(['Date_Time','Service_Point','Service_Item'],as_index=False)['value'].sum()"
   ]
  },
  {
   "cell_type": "code",
   "execution_count": 218,
   "metadata": {},
   "outputs": [],
   "source": [
    "#Option 3 \n",
    "\n",
    "df1.head()\n",
    "df1.to_excel(\"service_point_Option3.xlsx\")"
   ]
  },
  {
   "cell_type": "code",
   "execution_count": 219,
   "metadata": {},
   "outputs": [],
   "source": [
    "#Option 2\n",
    "\n",
    "df2=df.groupby(['Date_Time','Service_Point'],as_index=False)['value'].sum()\n",
    "df2.head()\n",
    "\n",
    "df2.to_excel(\"service_point_Option2.xlsx\")\n"
   ]
  },
  {
   "cell_type": "code",
   "execution_count": 212,
   "metadata": {},
   "outputs": [
    {
     "name": "stdout",
     "output_type": "stream",
     "text": [
      "<class 'pandas.core.frame.DataFrame'>\n",
      "Int64Index: 31038 entries, 0 to 31037\n",
      "Data columns (total 4 columns):\n",
      " #   Column         Non-Null Count  Dtype         \n",
      "---  ------         --------------  -----         \n",
      " 0   Date_Time      31038 non-null  datetime64[ns]\n",
      " 1   Service_Point  31038 non-null  object        \n",
      " 2   Service_Item   31038 non-null  object        \n",
      " 3   value          31038 non-null  int32         \n",
      "dtypes: datetime64[ns](1), int32(1), object(2)\n",
      "memory usage: 2.3+ MB\n"
     ]
    }
   ],
   "source": [
    "#Option 1\n",
    "\n",
    "# Just use Pivot Table to do this. It's easier"
   ]
  },
  {
   "cell_type": "code",
   "execution_count": 213,
   "metadata": {},
   "outputs": [
    {
     "data": {
      "text/plain": [
       "Date_Time  Date_Time\n",
       "2010       3            1784\n",
       "           5             556\n",
       "           6             274\n",
       "           7             240\n",
       "           8              82\n",
       "Name: value, dtype: int32"
      ]
     },
     "execution_count": 213,
     "metadata": {},
     "output_type": "execute_result"
    }
   ],
   "source": [
    "df2.head()"
   ]
  },
  {
   "cell_type": "code",
   "execution_count": null,
   "metadata": {},
   "outputs": [],
   "source": []
  },
  {
   "cell_type": "code",
   "execution_count": null,
   "metadata": {},
   "outputs": [],
   "source": []
  }
 ],
 "metadata": {
  "kernelspec": {
   "display_name": "Python 3",
   "language": "python",
   "name": "python3"
  },
  "language_info": {
   "codemirror_mode": {
    "name": "ipython",
    "version": 3
   },
   "file_extension": ".py",
   "mimetype": "text/x-python",
   "name": "python",
   "nbconvert_exporter": "python",
   "pygments_lexer": "ipython3",
   "version": "3.8.5"
  }
 },
 "nbformat": 4,
 "nbformat_minor": 4
}
