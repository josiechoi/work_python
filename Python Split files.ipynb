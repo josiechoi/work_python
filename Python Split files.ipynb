{
 "cells": [
  {
   "cell_type": "code",
   "execution_count": 25,
   "id": "a5c3adee",
   "metadata": {},
   "outputs": [],
   "source": [
    "\n"
   ]
  },
  {
   "cell_type": "markdown",
   "id": "45cf16aa",
   "metadata": {},
   "source": [
    "Python script - written by Chatgpt, to create smaller zip files \n",
    "here the size is set to 10MB. "
   ]
  },
  {
   "cell_type": "code",
   "execution_count": 68,
   "id": "a46b988e",
   "metadata": {},
   "outputs": [],
   "source": [
    "import os\n",
    "import zipfile\n",
    "\n",
    "def split_zip_file(file_path, chunk_size):\n",
    "    with zipfile.ZipFile(file_path, 'r') as zip_file:\n",
    "        total_size = os.path.getsize(file_path)\n",
    "        num_chunks = (total_size + chunk_size - 1) // chunk_size\n",
    "\n",
    "        for i in range(num_chunks):\n",
    "            start = i * chunk_size\n",
    "            end = min(start + chunk_size, total_size)\n",
    "            split_file_name = f'{file_path}.part{i+1}.zip'\n",
    "            with zipfile.ZipFile(split_file_name, 'w') as output_zip:\n",
    "                for zip_info in zip_file.infolist():\n",
    "                    if start <= zip_info.header_offset < end:\n",
    "                        output_zip.writestr(zip_info, zip_file.read(zip_info.filename))\n",
    "            \n",
    "if __name__ == '__main__':\n",
    "    file_path = 'C:/Users/josep/Downloads/zip/marc-record-snapshot-Feb-2023_7.zip'\n",
    "    chunk_size = 30 * 1024 * 1024  # Split into 10MB chunks\n",
    "    split_zip_file(file_path, chunk_size)\n"
   ]
  },
  {
   "cell_type": "code",
   "execution_count": null,
   "id": "6390c22e",
   "metadata": {},
   "outputs": [],
   "source": []
  }
 ],
 "metadata": {
  "kernelspec": {
   "display_name": "Python 3 (ipykernel)",
   "language": "python",
   "name": "python3"
  },
  "language_info": {
   "codemirror_mode": {
    "name": "ipython",
    "version": 3
   },
   "file_extension": ".py",
   "mimetype": "text/x-python",
   "name": "python",
   "nbconvert_exporter": "python",
   "pygments_lexer": "ipython3",
   "version": "3.9.13"
  }
 },
 "nbformat": 4,
 "nbformat_minor": 5
}
